{
 "cells": [
  {
   "cell_type": "code",
   "execution_count": 2,
   "id": "4021e51a",
   "metadata": {},
   "outputs": [],
   "source": [
    "import numpy as np\n",
    "import pandas as pd"
   ]
  },
  {
   "cell_type": "code",
   "execution_count": 2,
   "id": "24e98fa6",
   "metadata": {},
   "outputs": [],
   "source": [
    "one_dimensional_array = np.array([4.6,2.7,3.3,5])"
   ]
  },
  {
   "cell_type": "code",
   "execution_count": 3,
   "id": "9f51f81d",
   "metadata": {},
   "outputs": [
    {
     "name": "stdout",
     "output_type": "stream",
     "text": [
      "The array is [4.6 2.7 3.3 5. ]\n"
     ]
    }
   ],
   "source": [
    "print(f\"The array is {one_dimensional_array}\")"
   ]
  },
  {
   "cell_type": "code",
   "execution_count": 5,
   "id": "77971711",
   "metadata": {},
   "outputs": [],
   "source": [
    "# creating a sequence of integers\n",
    "seq_numbers = np.arange(1,9)\n"
   ]
  },
  {
   "cell_type": "code",
   "execution_count": 6,
   "id": "86d6b375",
   "metadata": {},
   "outputs": [
    {
     "name": "stdout",
     "output_type": "stream",
     "text": [
      "[1 2 3 4 5 6 7 8]\n"
     ]
    }
   ],
   "source": [
    "print(seq_numbers)"
   ]
  },
  {
   "cell_type": "code",
   "execution_count": 7,
   "id": "ae313909",
   "metadata": {},
   "outputs": [
    {
     "name": "stdout",
     "output_type": "stream",
     "text": [
      "[ 6  7  8  9 10 11 12 13 14 15 16 17 18 19]\n"
     ]
    }
   ],
   "source": [
    "feature = np.array(np.arange(6,20))\n",
    "print(feature)"
   ]
  },
  {
   "cell_type": "code",
   "execution_count": 8,
   "id": "50af668a",
   "metadata": {},
   "outputs": [
    {
     "name": "stdout",
     "output_type": "stream",
     "text": [
      "[22 25 28 31 34 37 40 43 46 49 52 55 58 61]\n"
     ]
    }
   ],
   "source": [
    "label = (3)*feature+4\n",
    "print(label)"
   ]
  },
  {
   "cell_type": "code",
   "execution_count": 11,
   "id": "75ca0b81",
   "metadata": {},
   "outputs": [
    {
     "name": "stdout",
     "output_type": "stream",
     "text": [
      "[-1.82553731  1.19958819 -0.46540065  1.53254957  0.16299601 -0.46373911\n",
      " -1.92518797  1.97198734 -0.35519126 -1.93457586 -0.38263508  0.85903032\n",
      " -1.35474027 -0.25635279 -1.37579847]\n"
     ]
    },
    {
     "ename": "ValueError",
     "evalue": "operands could not be broadcast together with shapes (14,) (15,) ",
     "output_type": "error",
     "traceback": [
      "\u001b[1;31m---------------------------------------------------------------------------\u001b[0m",
      "\u001b[1;31mValueError\u001b[0m                                Traceback (most recent call last)",
      "\u001b[1;32m~\\AppData\\Local\\Temp/ipykernel_12976/1999589507.py\u001b[0m in \u001b[0;36m<module>\u001b[1;34m\u001b[0m\n\u001b[0;32m      1\u001b[0m \u001b[0mnoise\u001b[0m \u001b[1;33m=\u001b[0m \u001b[1;33m(\u001b[0m\u001b[0mnp\u001b[0m\u001b[1;33m.\u001b[0m\u001b[0mrandom\u001b[0m\u001b[1;33m.\u001b[0m\u001b[0mrandom\u001b[0m\u001b[1;33m(\u001b[0m\u001b[1;33m[\u001b[0m\u001b[1;36m15\u001b[0m\u001b[1;33m]\u001b[0m\u001b[1;33m)\u001b[0m \u001b[1;33m*\u001b[0m \u001b[1;36m4\u001b[0m\u001b[1;33m)\u001b[0m \u001b[1;33m-\u001b[0m \u001b[1;36m2\u001b[0m\u001b[1;33m\u001b[0m\u001b[1;33m\u001b[0m\u001b[0m\n\u001b[0;32m      2\u001b[0m \u001b[0mprint\u001b[0m\u001b[1;33m(\u001b[0m\u001b[0mnoise\u001b[0m\u001b[1;33m)\u001b[0m\u001b[1;33m\u001b[0m\u001b[1;33m\u001b[0m\u001b[0m\n\u001b[1;32m----> 3\u001b[1;33m \u001b[0mlabel\u001b[0m \u001b[1;33m=\u001b[0m \u001b[0mlabel\u001b[0m \u001b[1;33m+\u001b[0m \u001b[0mnoise\u001b[0m\u001b[1;33m\u001b[0m\u001b[1;33m\u001b[0m\u001b[0m\n\u001b[0m\u001b[0;32m      4\u001b[0m \u001b[0mprint\u001b[0m\u001b[1;33m(\u001b[0m\u001b[0mlabel\u001b[0m\u001b[1;33m)\u001b[0m\u001b[1;33m\u001b[0m\u001b[1;33m\u001b[0m\u001b[0m\n",
      "\u001b[1;31mValueError\u001b[0m: operands could not be broadcast together with shapes (14,) (15,) "
     ]
    }
   ],
   "source": [
    "noise = (np.random.random([15]) * 4) - 2\n",
    "print(noise)\n",
    "label = label + noise \n",
    "print(label)"
   ]
  },
  {
   "cell_type": "code",
   "execution_count": 2,
   "id": "f23b59a8",
   "metadata": {},
   "outputs": [],
   "source": [
    "my_data = np.array([[0, 3], [10, 7], [20, 9], [30, 14], [40, 15]])"
   ]
  },
  {
   "cell_type": "code",
   "execution_count": 3,
   "id": "f41059e9",
   "metadata": {},
   "outputs": [],
   "source": [
    "column_names = ['temperature','activity']"
   ]
  },
  {
   "cell_type": "code",
   "execution_count": 4,
   "id": "a51d04b0",
   "metadata": {},
   "outputs": [],
   "source": [
    "my_dataframe = pd.DataFrame(data=my_data,columns=column_names)"
   ]
  },
  {
   "cell_type": "code",
   "execution_count": 5,
   "id": "ae22374e",
   "metadata": {},
   "outputs": [
    {
     "name": "stdout",
     "output_type": "stream",
     "text": [
      "   temperature  activity\n",
      "0            0         3\n",
      "1           10         7\n",
      "2           20         9\n",
      "3           30        14\n",
      "4           40        15\n"
     ]
    }
   ],
   "source": [
    "print(my_dataframe)"
   ]
  },
  {
   "cell_type": "code",
   "execution_count": 6,
   "id": "684a6c04",
   "metadata": {},
   "outputs": [],
   "source": [
    "my_dataframe['adjusted'] = my_dataframe ['activity']+2"
   ]
  },
  {
   "cell_type": "code",
   "execution_count": 7,
   "id": "9c1be9a5",
   "metadata": {},
   "outputs": [
    {
     "name": "stdout",
     "output_type": "stream",
     "text": [
      "   temperature  activity  adjusted\n",
      "0            0         3         5\n",
      "1           10         7         9\n",
      "2           20         9        11\n",
      "3           30        14        16\n",
      "4           40        15        17\n"
     ]
    }
   ],
   "source": [
    "print(my_dataframe)"
   ]
  },
  {
   "cell_type": "code",
   "execution_count": 8,
   "id": "897e4a12",
   "metadata": {},
   "outputs": [
    {
     "name": "stdout",
     "output_type": "stream",
     "text": [
      "0     0\n",
      "1    10\n",
      "2    20\n",
      "3    30\n",
      "4    40\n",
      "Name: temperature, dtype: int32\n"
     ]
    }
   ],
   "source": [
    "print(my_dataframe [\"temperature\"])"
   ]
  },
  {
   "cell_type": "code",
   "execution_count": 9,
   "id": "ae9084d9",
   "metadata": {},
   "outputs": [
    {
     "name": "stdout",
     "output_type": "stream",
     "text": [
      "   temperature  activity  adjusted\n",
      "2           20         9        11\n"
     ]
    }
   ],
   "source": [
    "print(my_dataframe.iloc[[2]])\n"
   ]
  },
  {
   "cell_type": "code",
   "execution_count": 14,
   "id": "b3b93ff1",
   "metadata": {},
   "outputs": [
    {
     "name": "stdout",
     "output_type": "stream",
     "text": [
      "[[57 66 44 65]\n",
      " [45 88 79 69]\n",
      " [57 48 66 71]]\n"
     ]
    }
   ],
   "source": [
    "student_score = np.random.randint(low = 0, high = 101, size=(3,4))\n",
    "print(student_score )"
   ]
  },
  {
   "cell_type": "code",
   "execution_count": 15,
   "id": "4b359884",
   "metadata": {},
   "outputs": [],
   "source": [
    "columns = ['Eleanor','Chidi','Tahani','Jason']"
   ]
  },
  {
   "cell_type": "code",
   "execution_count": 16,
   "id": "76de7ab6",
   "metadata": {},
   "outputs": [],
   "source": [
    "student_dataframe = pd.DataFrame(data=student_score,columns=columns)"
   ]
  },
  {
   "cell_type": "code",
   "execution_count": 17,
   "id": "9e011cdb",
   "metadata": {},
   "outputs": [
    {
     "name": "stdout",
     "output_type": "stream",
     "text": [
      "   Eleanor  Chidi  Tahani  Jason\n",
      "0       57     66      44     65\n",
      "1       45     88      79     69\n",
      "2       57     48      66     71\n"
     ]
    }
   ],
   "source": [
    "print(student_dataframe )"
   ]
  },
  {
   "cell_type": "code",
   "execution_count": 3,
   "id": "cca9a337",
   "metadata": {},
   "outputs": [],
   "source": [
    "new_data = np.array([[3,2],[5,8],[10,12],[22,8]])"
   ]
  },
  {
   "cell_type": "code",
   "execution_count": 4,
   "id": "91d57ab3",
   "metadata": {},
   "outputs": [],
   "source": [
    "new_col = ['Colo','Fidi']"
   ]
  },
  {
   "cell_type": "code",
   "execution_count": 5,
   "id": "03c6183f",
   "metadata": {},
   "outputs": [],
   "source": [
    "snooker_dataframe = pd.DataFrame(data=new_data,columns=new_col)"
   ]
  },
  {
   "cell_type": "code",
   "execution_count": 6,
   "id": "40b1cdea",
   "metadata": {},
   "outputs": [
    {
     "name": "stdout",
     "output_type": "stream",
     "text": [
      "   Colo  Fidi\n",
      "0     3     2\n",
      "1     5     8\n",
      "2    10    12\n",
      "3    22     8\n"
     ]
    }
   ],
   "source": [
    "print(snooker_dataframe)"
   ]
  },
  {
   "cell_type": "code",
   "execution_count": 8,
   "id": "ec46ba8a",
   "metadata": {},
   "outputs": [],
   "source": [
    "snooker_dataframe['Willi'] = snooker_dataframe['Colo']+2"
   ]
  },
  {
   "cell_type": "code",
   "execution_count": 9,
   "id": "80c2de45",
   "metadata": {},
   "outputs": [
    {
     "name": "stdout",
     "output_type": "stream",
     "text": [
      "   Colo  Fidi  Willi\n",
      "0     3     2      5\n",
      "1     5     8      7\n",
      "2    10    12     12\n",
      "3    22     8     24\n"
     ]
    }
   ],
   "source": [
    "print(snooker_dataframe)"
   ]
  },
  {
   "cell_type": "code",
   "execution_count": null,
   "id": "f69e1573",
   "metadata": {},
   "outputs": [],
   "source": []
  }
 ],
 "metadata": {
  "kernelspec": {
   "display_name": "Python 3 (ipykernel)",
   "language": "python",
   "name": "python3"
  },
  "language_info": {
   "codemirror_mode": {
    "name": "ipython",
    "version": 3
   },
   "file_extension": ".py",
   "mimetype": "text/x-python",
   "name": "python",
   "nbconvert_exporter": "python",
   "pygments_lexer": "ipython3",
   "version": "3.9.7"
  }
 },
 "nbformat": 4,
 "nbformat_minor": 5
}
